{
 "cells": [
  {
   "cell_type": "markdown",
   "metadata": {},
   "source": [
    "# Recommendation Engine for Events at the Burning Man Arts Festival\n",
    "\n",
    "A simple (item-based) recommendation engine for events at the Burning Man Arts and Entertainment Festival. Unlike the events classifier which used a whole set of engineered features, in this case we're going to keep it simpler and only use TF-IDF generated features.\n",
    "\n",
    "<a href='#recs'> Jump to the Recommendation Engine </a>"
   ]
  },
  {
   "cell_type": "code",
   "execution_count": 1,
   "metadata": {},
   "outputs": [
    {
     "name": "stderr",
     "output_type": "stream",
     "text": [
      "C:\\ProgramData\\Anaconda3\\lib\\site-packages\\nltk\\twitter\\__init__.py:20: UserWarning: The twython library has not been installed. Some functionality from the twitter package will not be available.\n",
      "  warnings.warn(\"The twython library has not been installed. \"\n"
     ]
    }
   ],
   "source": [
    "import pandas as pd;\n",
    "import numpy as np;\n",
    "import seaborn as sns;\n",
    "import matplotlib.pyplot as plt;\n",
    "\n",
    "import string, nltk, re, pprint\n",
    "\n",
    "from functools import reduce\n",
    "from tqdm import tqdm\n",
    "from pylab import *;\n",
    "from scipy import sparse\n",
    "from random import random\n",
    "\n",
    "from nltk.corpus   import stopwords\n",
    "from nltk          import word_tokenize\n",
    "from nltk.tokenize import RegexpTokenizer\n",
    "from nltk.sentiment.vader import SentimentIntensityAnalyzer as SIA\n",
    "from nltk.corpus import stopwords\n",
    "\n",
    "from sklearn.feature_extraction.stop_words import ENGLISH_STOP_WORDS\n",
    "from sklearn.feature_extraction.text import CountVectorizer, TfidfTransformer\n",
    "from sklearn.linear_model import LogisticRegression\n",
    "from sklearn.preprocessing import OneHotEncoder, LabelEncoder, StandardScaler\n",
    "from sklearn.metrics import classification_report, confusion_matrix, mean_absolute_error, mean_squared_error;\n",
    "from sklearn.model_selection import cross_val_score, train_test_split, GridSearchCV, RandomizedSearchCV\n",
    "\n",
    "import lightgbm as lgb;\n",
    "\n",
    "from wordcloud import WordCloud, STOPWORDS\n",
    "\n",
    "eng_stopwords = set(stopwords.words(\"english\"))\n",
    "\n",
    "%matplotlib inline"
   ]
  },
  {
   "cell_type": "markdown",
   "metadata": {},
   "source": [
    "# Construct Feature Engineered Dataset"
   ]
  },
  {
   "cell_type": "code",
   "execution_count": 85,
   "metadata": {},
   "outputs": [
    {
     "data": {
      "text/html": [
       "<div>\n",
       "<style>\n",
       "    .dataframe thead tr:only-child th {\n",
       "        text-align: right;\n",
       "    }\n",
       "\n",
       "    .dataframe thead th {\n",
       "        text-align: left;\n",
       "    }\n",
       "\n",
       "    .dataframe tbody tr th {\n",
       "        vertical-align: top;\n",
       "    }\n",
       "</style>\n",
       "<table border=\"1\" class=\"dataframe\">\n",
       "  <thead>\n",
       "    <tr style=\"text-align: right;\">\n",
       "      <th></th>\n",
       "      <th>Description</th>\n",
       "      <th>Title</th>\n",
       "      <th>Hosted by Camp</th>\n",
       "      <th>Location</th>\n",
       "      <th>Type</th>\n",
       "      <th>Contact Email</th>\n",
       "      <th>URL</th>\n",
       "      <th>Located at Art</th>\n",
       "      <th>Sunday</th>\n",
       "      <th>Monday</th>\n",
       "      <th>Tuesday</th>\n",
       "      <th>Wednesday</th>\n",
       "      <th>Thursday</th>\n",
       "      <th>Friday</th>\n",
       "      <th>Saturday</th>\n",
       "      <th>Sunday2</th>\n",
       "      <th>Monday2</th>\n",
       "    </tr>\n",
       "  </thead>\n",
       "  <tbody>\n",
       "    <tr>\n",
       "      <th>0</th>\n",
       "      <td>Ever have a really bad idea? A really, really ...</td>\n",
       "      <td>Bad Idea Bar</td>\n",
       "      <td>Academy of Arts and Sciences</td>\n",
       "      <td>NaN</td>\n",
       "      <td>Gathering/Party</td>\n",
       "      <td>NaN</td>\n",
       "      <td>NaN</td>\n",
       "      <td>NaN</td>\n",
       "      <td>midnight – 11:45 p.m.</td>\n",
       "      <td>midnight – 11:45 p.m.</td>\n",
       "      <td>midnight – 11:45 p.m.</td>\n",
       "      <td>midnight – 11:45 p.m.</td>\n",
       "      <td>midnight – 11:45 p.m.</td>\n",
       "      <td>midnight – 11:45 p.m.</td>\n",
       "      <td>midnight – 11:45 p.m.</td>\n",
       "      <td>0</td>\n",
       "      <td>0</td>\n",
       "    </tr>\n",
       "    <tr>\n",
       "      <th>1</th>\n",
       "      <td>21+ come in, have a cocktail made fresh. There...</td>\n",
       "      <td>Slow Burn Lounge</td>\n",
       "      <td>FANDANGO!</td>\n",
       "      <td>NaN</td>\n",
       "      <td>Other</td>\n",
       "      <td>NaN</td>\n",
       "      <td>NaN</td>\n",
       "      <td>NaN</td>\n",
       "      <td>midnight – noon</td>\n",
       "      <td>0</td>\n",
       "      <td>0</td>\n",
       "      <td>0</td>\n",
       "      <td>0</td>\n",
       "      <td>0</td>\n",
       "      <td>0</td>\n",
       "      <td>0</td>\n",
       "      <td>0</td>\n",
       "    </tr>\n",
       "    <tr>\n",
       "      <th>2</th>\n",
       "      <td>Hookah, trading booth, curiosities, and cockta...</td>\n",
       "      <td>The Magic Lantern awaits you</td>\n",
       "      <td>Magic Lantern Society</td>\n",
       "      <td>citizenmeow</td>\n",
       "      <td>Gathering/Party</td>\n",
       "      <td>monicayuwu@gmail.com</td>\n",
       "      <td>NaN</td>\n",
       "      <td>NaN</td>\n",
       "      <td>midnight – 11:45 p.m.</td>\n",
       "      <td>midnight – 11:45 p.m.</td>\n",
       "      <td>midnight – 11:45 p.m.</td>\n",
       "      <td>midnight – 11:45 p.m.</td>\n",
       "      <td>midnight – 11:45 p.m.</td>\n",
       "      <td>midnight – 11:45 p.m.</td>\n",
       "      <td>midnight – 11:45 p.m.</td>\n",
       "      <td>midnight – 11:45 p.m.</td>\n",
       "      <td>0</td>\n",
       "    </tr>\n",
       "    <tr>\n",
       "      <th>3</th>\n",
       "      <td>Come by the Lesbian Lending Library to pick up...</td>\n",
       "      <td>Camp Beaverton's Lesbian-ish Lending Library</td>\n",
       "      <td>Beaverton</td>\n",
       "      <td>Camp Beaverton</td>\n",
       "      <td>Adult-oriented</td>\n",
       "      <td>campbeaverton@gmail.com</td>\n",
       "      <td>http://www.campbeaverton.org</td>\n",
       "      <td>NaN</td>\n",
       "      <td>midnight – 11:45 p.m.</td>\n",
       "      <td>midnight – 11:45 p.m.</td>\n",
       "      <td>midnight – 11:45 p.m.</td>\n",
       "      <td>midnight – 11:45 p.m.</td>\n",
       "      <td>midnight – 11:45 p.m.</td>\n",
       "      <td>midnight – 11:45 p.m.</td>\n",
       "      <td>midnight – 11:45 p.m.</td>\n",
       "      <td>midnight – 11:45 p.m.</td>\n",
       "      <td>0</td>\n",
       "    </tr>\n",
       "    <tr>\n",
       "      <th>4</th>\n",
       "      <td>Come by Stag Camp and take the harrowing zipli...</td>\n",
       "      <td>Zipline!!</td>\n",
       "      <td>Stag Camp 11</td>\n",
       "      <td>8:15 &amp; D</td>\n",
       "      <td>Other</td>\n",
       "      <td>NaN</td>\n",
       "      <td>NaN</td>\n",
       "      <td>NaN</td>\n",
       "      <td>midnight – 11:45 p.m.</td>\n",
       "      <td>midnight – 11:45 p.m.</td>\n",
       "      <td>midnight – 11:45 p.m.</td>\n",
       "      <td>midnight – 11:45 p.m.</td>\n",
       "      <td>midnight – 11:45 p.m.</td>\n",
       "      <td>midnight – 11:45 p.m.</td>\n",
       "      <td>midnight – 11:45 p.m.</td>\n",
       "      <td>midnight – 11:45 p.m.</td>\n",
       "      <td>midnight – 11:45 p.m.</td>\n",
       "    </tr>\n",
       "  </tbody>\n",
       "</table>\n",
       "</div>"
      ],
      "text/plain": [
       "                                         Description  \\\n",
       "0  Ever have a really bad idea? A really, really ...   \n",
       "1  21+ come in, have a cocktail made fresh. There...   \n",
       "2  Hookah, trading booth, curiosities, and cockta...   \n",
       "3  Come by the Lesbian Lending Library to pick up...   \n",
       "4  Come by Stag Camp and take the harrowing zipli...   \n",
       "\n",
       "                                          Title                Hosted by Camp  \\\n",
       "0                                  Bad Idea Bar  Academy of Arts and Sciences   \n",
       "1                              Slow Burn Lounge                     FANDANGO!   \n",
       "2                  The Magic Lantern awaits you         Magic Lantern Society   \n",
       "3  Camp Beaverton's Lesbian-ish Lending Library                     Beaverton   \n",
       "4                                     Zipline!!                  Stag Camp 11   \n",
       "\n",
       "         Location             Type            Contact Email  \\\n",
       "0             NaN  Gathering/Party                      NaN   \n",
       "1             NaN            Other                      NaN   \n",
       "2     citizenmeow  Gathering/Party     monicayuwu@gmail.com   \n",
       "3  Camp Beaverton   Adult-oriented  campbeaverton@gmail.com   \n",
       "4        8:15 & D            Other                      NaN   \n",
       "\n",
       "                            URL Located at Art                 Sunday  \\\n",
       "0                           NaN            NaN  midnight – 11:45 p.m.   \n",
       "1                           NaN            NaN        midnight – noon   \n",
       "2                           NaN            NaN  midnight – 11:45 p.m.   \n",
       "3  http://www.campbeaverton.org            NaN  midnight – 11:45 p.m.   \n",
       "4                           NaN            NaN  midnight – 11:45 p.m.   \n",
       "\n",
       "                  Monday                Tuesday              Wednesday  \\\n",
       "0  midnight – 11:45 p.m.  midnight – 11:45 p.m.  midnight – 11:45 p.m.   \n",
       "1                      0                      0                      0   \n",
       "2  midnight – 11:45 p.m.  midnight – 11:45 p.m.  midnight – 11:45 p.m.   \n",
       "3  midnight – 11:45 p.m.  midnight – 11:45 p.m.  midnight – 11:45 p.m.   \n",
       "4  midnight – 11:45 p.m.  midnight – 11:45 p.m.  midnight – 11:45 p.m.   \n",
       "\n",
       "                Thursday                 Friday               Saturday  \\\n",
       "0  midnight – 11:45 p.m.  midnight – 11:45 p.m.  midnight – 11:45 p.m.   \n",
       "1                      0                      0                      0   \n",
       "2  midnight – 11:45 p.m.  midnight – 11:45 p.m.  midnight – 11:45 p.m.   \n",
       "3  midnight – 11:45 p.m.  midnight – 11:45 p.m.  midnight – 11:45 p.m.   \n",
       "4  midnight – 11:45 p.m.  midnight – 11:45 p.m.  midnight – 11:45 p.m.   \n",
       "\n",
       "                 Sunday2                Monday2  \n",
       "0                      0                      0  \n",
       "1                      0                      0  \n",
       "2  midnight – 11:45 p.m.                      0  \n",
       "3  midnight – 11:45 p.m.                      0  \n",
       "4  midnight – 11:45 p.m.  midnight – 11:45 p.m.  "
      ]
     },
     "execution_count": 85,
     "metadata": {},
     "output_type": "execute_result"
    }
   ],
   "source": [
    "events = pd.read_csv('raw_data/cleaned_up.csv')\n",
    "\n",
    "# Only perform recommendations on a single year's data\n",
    "events = events[events['Year'] == 2017].drop(['Year'], axis=1).reset_index(drop=True)\n",
    "\n",
    "events_og = events.copy()\n",
    "\n",
    "events.head()"
   ]
  },
  {
   "cell_type": "code",
   "execution_count": 86,
   "metadata": {},
   "outputs": [
    {
     "name": "stdout",
     "output_type": "stream",
     "text": [
      "['Adult-oriented' 'Care/Support' 'Class/Workshop' 'Fire' 'Food' 'Game'\n",
      " 'Gathering/Party' 'Kid-friendly' 'Other' 'Parade' 'Performance'\n",
      " 'Ritual/Ceremony']\n"
     ]
    }
   ],
   "source": [
    "le = LabelEncoder()\n",
    "le.fit(events['Type'].values)\n",
    "labels = le.classes_\n",
    "y = le.transform(events['Type'].values) \n",
    "\n",
    "events[\"Description\"] = (events[\"Description\"].map(str) + ' ' + events[\"Title\"].map(str) + ' ' + \n",
    "                         events[\"Hosted by Camp\"].map(str) + ' ' + events[\"Location\"].map(str))\n",
    "events = events.drop(['Title', 'Hosted by Camp', 'Location'], axis=1)\n",
    "\n",
    "count_vect_desc  = CountVectorizer(stop_words='english', min_df=20,  ngram_range=(1, 3), analyzer='word')\n",
    "X = count_vect_desc.fit_transform(events['Description'].values);\n",
    "iX_desc  = X.shape[1]\n",
    "print(X.shape)\n",
    "\n",
    "feature_names = ['str('+name+')' for name in count_vect_desc.get_feature_names()]"
   ]
  },
  {
   "cell_type": "code",
   "execution_count": 104,
   "metadata": {
    "collapsed": true
   },
   "outputs": [],
   "source": [
    "from sklearn.feature_extraction.text import TfidfTransformer\n",
    "\n",
    "transformer = TfidfTransformer()\n",
    "\n",
    "X = transformer.fit_transform(X)"
   ]
  },
  {
   "cell_type": "markdown",
   "metadata": {},
   "source": [
    "<a id='recs'></a>\n",
    "\n",
    "# Construct Similarity Matrix\n",
    "\n",
    "Passing normalized TF-IDF values through the linear kernel function is identical to the cosine similarity"
   ]
  },
  {
   "cell_type": "code",
   "execution_count": 106,
   "metadata": {},
   "outputs": [
    {
     "data": {
      "text/html": [
       "<div>\n",
       "<style>\n",
       "    .dataframe thead tr:only-child th {\n",
       "        text-align: right;\n",
       "    }\n",
       "\n",
       "    .dataframe thead th {\n",
       "        text-align: left;\n",
       "    }\n",
       "\n",
       "    .dataframe tbody tr th {\n",
       "        vertical-align: top;\n",
       "    }\n",
       "</style>\n",
       "<table border=\"1\" class=\"dataframe\">\n",
       "  <thead>\n",
       "    <tr style=\"text-align: right;\">\n",
       "      <th></th>\n",
       "      <th>0</th>\n",
       "      <th>1</th>\n",
       "      <th>2</th>\n",
       "      <th>3</th>\n",
       "      <th>4</th>\n",
       "      <th>5</th>\n",
       "      <th>6</th>\n",
       "      <th>7</th>\n",
       "      <th>8</th>\n",
       "      <th>9</th>\n",
       "      <th>...</th>\n",
       "      <th>3486</th>\n",
       "      <th>3487</th>\n",
       "      <th>3488</th>\n",
       "      <th>3489</th>\n",
       "      <th>3490</th>\n",
       "      <th>3491</th>\n",
       "      <th>3492</th>\n",
       "      <th>3493</th>\n",
       "      <th>3494</th>\n",
       "      <th>3495</th>\n",
       "    </tr>\n",
       "  </thead>\n",
       "  <tbody>\n",
       "    <tr>\n",
       "      <th>0</th>\n",
       "      <td>1.000000</td>\n",
       "      <td>0.004261</td>\n",
       "      <td>0.000000</td>\n",
       "      <td>0.000000</td>\n",
       "      <td>0.000000</td>\n",
       "      <td>0.010308</td>\n",
       "      <td>0.000000</td>\n",
       "      <td>0.005108</td>\n",
       "      <td>0.005340</td>\n",
       "      <td>0.079137</td>\n",
       "      <td>...</td>\n",
       "      <td>0.005725</td>\n",
       "      <td>0.123300</td>\n",
       "      <td>0.033614</td>\n",
       "      <td>0.000000</td>\n",
       "      <td>0.000000</td>\n",
       "      <td>0.111989</td>\n",
       "      <td>0.006738</td>\n",
       "      <td>0.061478</td>\n",
       "      <td>0.003582</td>\n",
       "      <td>0.000000</td>\n",
       "    </tr>\n",
       "    <tr>\n",
       "      <th>1</th>\n",
       "      <td>0.004261</td>\n",
       "      <td>1.000000</td>\n",
       "      <td>0.016157</td>\n",
       "      <td>0.011114</td>\n",
       "      <td>0.022992</td>\n",
       "      <td>0.015744</td>\n",
       "      <td>0.034705</td>\n",
       "      <td>0.007802</td>\n",
       "      <td>0.028508</td>\n",
       "      <td>0.074110</td>\n",
       "      <td>...</td>\n",
       "      <td>0.108621</td>\n",
       "      <td>0.059232</td>\n",
       "      <td>0.006759</td>\n",
       "      <td>0.089974</td>\n",
       "      <td>0.000000</td>\n",
       "      <td>0.025413</td>\n",
       "      <td>0.035969</td>\n",
       "      <td>0.000000</td>\n",
       "      <td>0.005472</td>\n",
       "      <td>0.101826</td>\n",
       "    </tr>\n",
       "    <tr>\n",
       "      <th>2</th>\n",
       "      <td>0.000000</td>\n",
       "      <td>0.016157</td>\n",
       "      <td>1.000000</td>\n",
       "      <td>0.011058</td>\n",
       "      <td>0.086330</td>\n",
       "      <td>0.000000</td>\n",
       "      <td>0.000000</td>\n",
       "      <td>0.000000</td>\n",
       "      <td>0.020250</td>\n",
       "      <td>0.084151</td>\n",
       "      <td>...</td>\n",
       "      <td>0.021707</td>\n",
       "      <td>0.008672</td>\n",
       "      <td>0.000000</td>\n",
       "      <td>0.015106</td>\n",
       "      <td>0.065883</td>\n",
       "      <td>0.018051</td>\n",
       "      <td>0.025549</td>\n",
       "      <td>0.000000</td>\n",
       "      <td>0.000000</td>\n",
       "      <td>0.000000</td>\n",
       "    </tr>\n",
       "    <tr>\n",
       "      <th>3</th>\n",
       "      <td>0.000000</td>\n",
       "      <td>0.011114</td>\n",
       "      <td>0.011058</td>\n",
       "      <td>1.000000</td>\n",
       "      <td>0.089611</td>\n",
       "      <td>0.000000</td>\n",
       "      <td>0.010556</td>\n",
       "      <td>0.000000</td>\n",
       "      <td>0.013930</td>\n",
       "      <td>0.052184</td>\n",
       "      <td>...</td>\n",
       "      <td>0.049980</td>\n",
       "      <td>0.005965</td>\n",
       "      <td>0.000000</td>\n",
       "      <td>0.010391</td>\n",
       "      <td>0.033422</td>\n",
       "      <td>0.012417</td>\n",
       "      <td>0.017575</td>\n",
       "      <td>0.000000</td>\n",
       "      <td>0.000000</td>\n",
       "      <td>0.000000</td>\n",
       "    </tr>\n",
       "    <tr>\n",
       "      <th>4</th>\n",
       "      <td>0.000000</td>\n",
       "      <td>0.022992</td>\n",
       "      <td>0.086330</td>\n",
       "      <td>0.089611</td>\n",
       "      <td>1.000000</td>\n",
       "      <td>0.000000</td>\n",
       "      <td>0.048242</td>\n",
       "      <td>0.000000</td>\n",
       "      <td>0.028817</td>\n",
       "      <td>0.213049</td>\n",
       "      <td>...</td>\n",
       "      <td>0.103396</td>\n",
       "      <td>0.012341</td>\n",
       "      <td>0.000000</td>\n",
       "      <td>0.021497</td>\n",
       "      <td>0.069143</td>\n",
       "      <td>0.025688</td>\n",
       "      <td>0.036359</td>\n",
       "      <td>0.000000</td>\n",
       "      <td>0.000000</td>\n",
       "      <td>0.000000</td>\n",
       "    </tr>\n",
       "  </tbody>\n",
       "</table>\n",
       "<p>5 rows × 3496 columns</p>\n",
       "</div>"
      ],
      "text/plain": [
       "       0         1         2         3         4         5         6     \\\n",
       "0  1.000000  0.004261  0.000000  0.000000  0.000000  0.010308  0.000000   \n",
       "1  0.004261  1.000000  0.016157  0.011114  0.022992  0.015744  0.034705   \n",
       "2  0.000000  0.016157  1.000000  0.011058  0.086330  0.000000  0.000000   \n",
       "3  0.000000  0.011114  0.011058  1.000000  0.089611  0.000000  0.010556   \n",
       "4  0.000000  0.022992  0.086330  0.089611  1.000000  0.000000  0.048242   \n",
       "\n",
       "       7         8         9       ...         3486      3487      3488  \\\n",
       "0  0.005108  0.005340  0.079137    ...     0.005725  0.123300  0.033614   \n",
       "1  0.007802  0.028508  0.074110    ...     0.108621  0.059232  0.006759   \n",
       "2  0.000000  0.020250  0.084151    ...     0.021707  0.008672  0.000000   \n",
       "3  0.000000  0.013930  0.052184    ...     0.049980  0.005965  0.000000   \n",
       "4  0.000000  0.028817  0.213049    ...     0.103396  0.012341  0.000000   \n",
       "\n",
       "       3489      3490      3491      3492      3493      3494      3495  \n",
       "0  0.000000  0.000000  0.111989  0.006738  0.061478  0.003582  0.000000  \n",
       "1  0.089974  0.000000  0.025413  0.035969  0.000000  0.005472  0.101826  \n",
       "2  0.015106  0.065883  0.018051  0.025549  0.000000  0.000000  0.000000  \n",
       "3  0.010391  0.033422  0.012417  0.017575  0.000000  0.000000  0.000000  \n",
       "4  0.021497  0.069143  0.025688  0.036359  0.000000  0.000000  0.000000  \n",
       "\n",
       "[5 rows x 3496 columns]"
      ]
     },
     "execution_count": 106,
     "metadata": {},
     "output_type": "execute_result"
    }
   ],
   "source": [
    "from sklearn.metrics.pairwise import linear_kernel\n",
    "\n",
    "cossim = linear_kernel(X)\n",
    "\n",
    "df_cossim = pd.DataFrame(cossim, columns = np.arange(len(cossim)))\n",
    "\n",
    "df_cossim.head()"
   ]
  },
  {
   "cell_type": "markdown",
   "metadata": {},
   "source": [
    "# Example 1\n",
    "\n",
    "Say we pick some event, in this case, a Live Jazz event."
   ]
  },
  {
   "cell_type": "code",
   "execution_count": 107,
   "metadata": {},
   "outputs": [
    {
     "name": "stdout",
     "output_type": "stream",
     "text": [
      "['Jazz Jam session' 'Playa Jazz Cafe' 'Performance'\n",
      " 'Playa Jazz Café house band concert followed Jam Session. Musicians and singers are invited to sit in with the band. Coffee, Jazz theme drinks, Live Jazz.']\n"
     ]
    }
   ],
   "source": [
    "print(events_og.iloc[[213]][['Title', 'Hosted by Camp', 'Type', 'Description']].values[0])"
   ]
  },
  {
   "cell_type": "markdown",
   "metadata": {},
   "source": [
    "We can take a look at the corresponding entry in the similarity matrix to identify the most similar events. The first entry is just the event itself."
   ]
  },
  {
   "cell_type": "code",
   "execution_count": 108,
   "metadata": {},
   "outputs": [
    {
     "data": {
      "text/html": [
       "<div>\n",
       "<style>\n",
       "    .dataframe thead tr:only-child th {\n",
       "        text-align: right;\n",
       "    }\n",
       "\n",
       "    .dataframe thead th {\n",
       "        text-align: left;\n",
       "    }\n",
       "\n",
       "    .dataframe tbody tr th {\n",
       "        vertical-align: top;\n",
       "    }\n",
       "</style>\n",
       "<table border=\"1\" class=\"dataframe\">\n",
       "  <thead>\n",
       "    <tr style=\"text-align: right;\">\n",
       "      <th></th>\n",
       "      <th>index</th>\n",
       "      <th>sim</th>\n",
       "    </tr>\n",
       "  </thead>\n",
       "  <tbody>\n",
       "    <tr>\n",
       "      <th>213</th>\n",
       "      <td>213</td>\n",
       "      <td>1.000000</td>\n",
       "    </tr>\n",
       "    <tr>\n",
       "      <th>927</th>\n",
       "      <td>927</td>\n",
       "      <td>0.464242</td>\n",
       "    </tr>\n",
       "    <tr>\n",
       "      <th>704</th>\n",
       "      <td>704</td>\n",
       "      <td>0.437599</td>\n",
       "    </tr>\n",
       "    <tr>\n",
       "      <th>151</th>\n",
       "      <td>151</td>\n",
       "      <td>0.390288</td>\n",
       "    </tr>\n",
       "    <tr>\n",
       "      <th>3062</th>\n",
       "      <td>3062</td>\n",
       "      <td>0.383900</td>\n",
       "    </tr>\n",
       "  </tbody>\n",
       "</table>\n",
       "</div>"
      ],
      "text/plain": [
       "      index       sim\n",
       "213     213  1.000000\n",
       "927     927  0.464242\n",
       "704     704  0.437599\n",
       "151     151  0.390288\n",
       "3062   3062  0.383900"
      ]
     },
     "execution_count": 108,
     "metadata": {},
     "output_type": "execute_result"
    }
   ],
   "source": [
    "df_cossim[213].reset_index(name='sim').sort_values('sim', ascending=False).head(5)"
   ]
  },
  {
   "cell_type": "markdown",
   "metadata": {},
   "source": [
    "Let's take a look at the recommendations. Not too shabby, they all seem relevent."
   ]
  },
  {
   "cell_type": "code",
   "execution_count": 147,
   "metadata": {},
   "outputs": [
    {
     "name": "stdout",
     "output_type": "stream",
     "text": [
      "[['Bluegrass Onstage Jam Hour at Rootpile, come pick!' 'Rootpile'\n",
      "  'Performance'\n",
      "  'At Rootpile camp, the only Bluegrass music and hillbilly culture camp on the playa, we will have as part of our nightly show an onstage jam session at which people can get on stage and sit in if they are a Bluegrass musician or singer. Our house bands will start at 9 pm after the jam, and we will be serving pork bbq and pinto beans until we run out!!']]\n"
     ]
    }
   ],
   "source": [
    "print(events_og.iloc[[927]][['Title', 'Hosted by Camp', 'Type', 'Description']].values)"
   ]
  },
  {
   "cell_type": "code",
   "execution_count": 148,
   "metadata": {},
   "outputs": [
    {
     "name": "stdout",
     "output_type": "stream",
     "text": [
      "[['Live Band Karaoke' 'bEEcHARGE!!!' 'Performance'\n",
      "  \"Be the lead singer!  Join us for Year 3 of Live Band Karaoke on the Playa.  We'll supply the band, the words, and a microphone!\"]]\n"
     ]
    }
   ],
   "source": [
    "print(events_og.iloc[[704]][['Title', 'Hosted by Camp', 'Type', 'Description']].values)"
   ]
  },
  {
   "cell_type": "code",
   "execution_count": 149,
   "metadata": {},
   "outputs": [
    {
     "name": "stdout",
     "output_type": "stream",
     "text": [
      "[['Drum Bass Workshop Part 1' 'Playa Jazz Cafe' 'Class/Workshop'\n",
      "  'House Band Drummers and Bass players explain the roles of their instruments and techniques involved in Jazz improvisation. Refreshments for attendees.']]\n"
     ]
    }
   ],
   "source": [
    "print(events_og.iloc[[151]][['Title', 'Hosted by Camp', 'Type', 'Description']].values)"
   ]
  },
  {
   "cell_type": "markdown",
   "metadata": {},
   "source": [
    "# Example 2\n",
    "\n",
    "Let's take a look at another example from the Public Library"
   ]
  },
  {
   "cell_type": "code",
   "execution_count": 114,
   "metadata": {},
   "outputs": [
    {
     "name": "stdout",
     "output_type": "stream",
     "text": [
      "['Book Group Smackdown' 'Black Rock Public Library' 'Other'\n",
      " 'Tired of book groups where everyone reads the same book and discusses that one book in nice, polite language? Come to the BRPL Book Group, where everyone brings a different book (your favorite?!?) and argues that it is the best.\\n\\n\\n\\nYelling, cursing, logic and other forms of persuasion are encouraged, but not required.']\n"
     ]
    }
   ],
   "source": [
    "print(events_og.iloc[[1852]][['Title', 'Hosted by Camp', 'Type', 'Description']].values[0])"
   ]
  },
  {
   "cell_type": "code",
   "execution_count": 116,
   "metadata": {},
   "outputs": [
    {
     "data": {
      "text/html": [
       "<div>\n",
       "<style>\n",
       "    .dataframe thead tr:only-child th {\n",
       "        text-align: right;\n",
       "    }\n",
       "\n",
       "    .dataframe thead th {\n",
       "        text-align: left;\n",
       "    }\n",
       "\n",
       "    .dataframe tbody tr th {\n",
       "        vertical-align: top;\n",
       "    }\n",
       "</style>\n",
       "<table border=\"1\" class=\"dataframe\">\n",
       "  <thead>\n",
       "    <tr style=\"text-align: right;\">\n",
       "      <th></th>\n",
       "      <th>index</th>\n",
       "      <th>sim</th>\n",
       "    </tr>\n",
       "  </thead>\n",
       "  <tbody>\n",
       "    <tr>\n",
       "      <th>1852</th>\n",
       "      <td>1852</td>\n",
       "      <td>1.000000</td>\n",
       "    </tr>\n",
       "    <tr>\n",
       "      <th>1435</th>\n",
       "      <td>1435</td>\n",
       "      <td>0.593094</td>\n",
       "    </tr>\n",
       "    <tr>\n",
       "      <th>334</th>\n",
       "      <td>334</td>\n",
       "      <td>0.470564</td>\n",
       "    </tr>\n",
       "    <tr>\n",
       "      <th>1647</th>\n",
       "      <td>1647</td>\n",
       "      <td>0.324589</td>\n",
       "    </tr>\n",
       "    <tr>\n",
       "      <th>1982</th>\n",
       "      <td>1982</td>\n",
       "      <td>0.318754</td>\n",
       "    </tr>\n",
       "  </tbody>\n",
       "</table>\n",
       "</div>"
      ],
      "text/plain": [
       "      index       sim\n",
       "1852   1852  1.000000\n",
       "1435   1435  0.593094\n",
       "334     334  0.470564\n",
       "1647   1647  0.324589\n",
       "1982   1982  0.318754"
      ]
     },
     "execution_count": 116,
     "metadata": {},
     "output_type": "execute_result"
    }
   ],
   "source": [
    "df_cossim[1852].reset_index(name='sim').sort_values('sim', ascending=False).head(5)"
   ]
  },
  {
   "cell_type": "markdown",
   "metadata": {},
   "source": [
    "Sounds fun. I'll meet James Joyce at Burning Man?"
   ]
  },
  {
   "cell_type": "code",
   "execution_count": 151,
   "metadata": {},
   "outputs": [
    {
     "name": "stdout",
     "output_type": "stream",
     "text": [
      "[['\"Author\" Book Signing' 'Black Rock Public Library' 'Other'\n",
      "  'For one hour only, you will have the opportunity to meet any author, dead or alive! Bring your own book, or check one out from our collection, and then bring it to the \"Author\" to get it signed and have a once-in-a-lifetime conversation with your literary hero.']]\n"
     ]
    }
   ],
   "source": [
    "print(events_og.iloc[[1435]][['Title', 'Hosted by Camp', 'Type', 'Description']].values)"
   ]
  },
  {
   "cell_type": "code",
   "execution_count": 152,
   "metadata": {},
   "outputs": [
    {
     "name": "stdout",
     "output_type": "stream",
     "text": [
      "[['Comic Book Reading Room 2.0 with MIST' \"Captain Pump's Raiders\"\n",
      "  'Care/Support'\n",
      "  'Come inside our D20 dome to cool off, relax, and read some epic adventures with the finest in comic book reading material on all the playa.']]\n"
     ]
    }
   ],
   "source": [
    "print(events_og.iloc[[334]][['Title', 'Hosted by Camp', 'Type', 'Description']].values)"
   ]
  },
  {
   "cell_type": "code",
   "execution_count": 153,
   "metadata": {},
   "outputs": [
    {
     "name": "stdout",
     "output_type": "stream",
     "text": [
      "[['Drunken Wizard Book Readings' 'Servants of the Secret Fire' 'Game'\n",
      "  'Get drunk and read from the Secret Fire Library']]\n"
     ]
    }
   ],
   "source": [
    "print(events_og.iloc[[1647]][['Title', 'Hosted by Camp', 'Type', 'Description']].values)"
   ]
  },
  {
   "cell_type": "markdown",
   "metadata": {},
   "source": [
    "# Joint Recommendations\n",
    "\n",
    "If I have multiple events picked, I can multiply their similarity vectors together to get joint recommendations."
   ]
  },
  {
   "cell_type": "code",
   "execution_count": 132,
   "metadata": {},
   "outputs": [
    {
     "data": {
      "text/html": [
       "<div>\n",
       "<style>\n",
       "    .dataframe thead tr:only-child th {\n",
       "        text-align: right;\n",
       "    }\n",
       "\n",
       "    .dataframe thead th {\n",
       "        text-align: left;\n",
       "    }\n",
       "\n",
       "    .dataframe tbody tr th {\n",
       "        vertical-align: top;\n",
       "    }\n",
       "</style>\n",
       "<table border=\"1\" class=\"dataframe\">\n",
       "  <thead>\n",
       "    <tr style=\"text-align: right;\">\n",
       "      <th></th>\n",
       "      <th>index</th>\n",
       "      <th>sim</th>\n",
       "    </tr>\n",
       "  </thead>\n",
       "  <tbody>\n",
       "    <tr>\n",
       "      <th>297</th>\n",
       "      <td>297</td>\n",
       "      <td>0.018352</td>\n",
       "    </tr>\n",
       "    <tr>\n",
       "      <th>2381</th>\n",
       "      <td>2381</td>\n",
       "      <td>0.014031</td>\n",
       "    </tr>\n",
       "    <tr>\n",
       "      <th>334</th>\n",
       "      <td>334</td>\n",
       "      <td>0.012665</td>\n",
       "    </tr>\n",
       "    <tr>\n",
       "      <th>2509</th>\n",
       "      <td>2509</td>\n",
       "      <td>0.012265</td>\n",
       "    </tr>\n",
       "    <tr>\n",
       "      <th>1982</th>\n",
       "      <td>1982</td>\n",
       "      <td>0.011703</td>\n",
       "    </tr>\n",
       "    <tr>\n",
       "      <th>2310</th>\n",
       "      <td>2310</td>\n",
       "      <td>0.011653</td>\n",
       "    </tr>\n",
       "    <tr>\n",
       "      <th>8</th>\n",
       "      <td>8</td>\n",
       "      <td>0.009607</td>\n",
       "    </tr>\n",
       "    <tr>\n",
       "      <th>921</th>\n",
       "      <td>921</td>\n",
       "      <td>0.009523</td>\n",
       "    </tr>\n",
       "    <tr>\n",
       "      <th>1607</th>\n",
       "      <td>1607</td>\n",
       "      <td>0.009517</td>\n",
       "    </tr>\n",
       "    <tr>\n",
       "      <th>2390</th>\n",
       "      <td>2390</td>\n",
       "      <td>0.009167</td>\n",
       "    </tr>\n",
       "  </tbody>\n",
       "</table>\n",
       "</div>"
      ],
      "text/plain": [
       "      index       sim\n",
       "297     297  0.018352\n",
       "2381   2381  0.014031\n",
       "334     334  0.012665\n",
       "2509   2509  0.012265\n",
       "1982   1982  0.011703\n",
       "2310   2310  0.011653\n",
       "8         8  0.009607\n",
       "921     921  0.009523\n",
       "1607   1607  0.009517\n",
       "2390   2390  0.009167"
      ]
     },
     "execution_count": 132,
     "metadata": {},
     "output_type": "execute_result"
    }
   ],
   "source": [
    "(df_cossim[213]*df_cossim[1852]).reset_index(name='sim').sort_values('sim', ascending=False).head(10)"
   ]
  },
  {
   "cell_type": "markdown",
   "metadata": {},
   "source": [
    "Music AND reading? Perfect!"
   ]
  },
  {
   "cell_type": "code",
   "execution_count": 154,
   "metadata": {},
   "outputs": [
    {
     "name": "stdout",
     "output_type": "stream",
     "text": [
      "[['Morning Wizard Music' 'Servants of the Secret Fire' 'Ritual/Ceremony'\n",
      "  'Curated wizard music from the Secret Fire Sound Wizard.  Sit down, relax, and enjoy a book in our library.']]\n"
     ]
    }
   ],
   "source": [
    "print(events_og.iloc[[297]][['Title', 'Hosted by Camp', 'Type', 'Description']].values)"
   ]
  },
  {
   "cell_type": "code",
   "execution_count": null,
   "metadata": {
    "collapsed": true
   },
   "outputs": [],
   "source": []
  }
 ],
 "metadata": {
  "kernelspec": {
   "display_name": "Python 3",
   "language": "python",
   "name": "python3"
  },
  "language_info": {
   "codemirror_mode": {
    "name": "ipython",
    "version": 3
   },
   "file_extension": ".py",
   "mimetype": "text/x-python",
   "name": "python",
   "nbconvert_exporter": "python",
   "pygments_lexer": "ipython3",
   "version": "3.6.4"
  }
 },
 "nbformat": 4,
 "nbformat_minor": 2
}
