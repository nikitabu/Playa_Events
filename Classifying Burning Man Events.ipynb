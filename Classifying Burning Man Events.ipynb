{
 "cells": [
  {
   "cell_type": "markdown",
   "metadata": {},
   "source": [
    "# Classifying Events by Type\n",
    "\n",
    "A similar application is the Facebook Event Classifier, which attempts to categorize events (e.g. parties, concerts, games)."
   ]
  },
  {
   "cell_type": "code",
   "execution_count": 88,
   "metadata": {
    "collapsed": true
   },
   "outputs": [],
   "source": [
    "import pandas as pd;\n",
    "import numpy as np;\n",
    "import seaborn as sns;\n",
    "import matplotlib.pyplot as plt;\n",
    "import string\n",
    "from functools import reduce\n",
    "from tqdm import tqdm\n",
    "from pylab import *;\n",
    "\n",
    "from sklearn.preprocessing import OneHotEncoder, LabelEncoder, StandardScaler\n",
    "\n",
    "import nltk, re, pprint\n",
    "from nltk.corpus   import stopwords\n",
    "from nltk          import word_tokenize\n",
    "from nltk.tokenize import RegexpTokenizer\n",
    "\n",
    "from nltk.sentiment.vader import SentimentIntensityAnalyzer as SIA\n",
    "\n",
    "from sklearn.feature_extraction.stop_words import ENGLISH_STOP_WORDS\n",
    "\n",
    "from sklearn.feature_extraction.text import CountVectorizer\n",
    "\n",
    "from sklearn.linear_model import LogisticRegression\n",
    "\n",
    "from wordcloud import WordCloud, STOPWORDS\n",
    "\n",
    "from scipy import sparse\n",
    "\n",
    "from nltk.corpus import stopwords\n",
    "from time import time\n",
    "\n",
    "eng_stopwords = set(stopwords.words(\"english\"))\n",
    "\n",
    "%matplotlib inline"
   ]
  },
  {
   "cell_type": "code",
   "execution_count": 79,
   "metadata": {
    "collapsed": true
   },
   "outputs": [],
   "source": [
    "events = pd.read_csv('raw_data/cleaned_up.csv')"
   ]
  },
  {
   "cell_type": "markdown",
   "metadata": {},
   "source": [
    "## Feature Engineering"
   ]
  },
  {
   "cell_type": "code",
   "execution_count": 80,
   "metadata": {
    "collapsed": true
   },
   "outputs": [],
   "source": [
    "# Convert Days to Simple Binary (Lose Time of Day Information)\n",
    "\n",
    "days = ['Sunday', 'Monday', 'Tuesday', 'Wednesday', 'Thursday', 'Friday', 'Saturday', 'Sunday2', 'Monday2'];\n",
    "\n",
    "events[days] = ((events[days] == '0') == False).astype(int);"
   ]
  },
  {
   "cell_type": "code",
   "execution_count": 81,
   "metadata": {
    "collapsed": true
   },
   "outputs": [],
   "source": [
    "# Convert Contact Email, URL to Binary\n",
    "\n",
    "events['Contact Email']  = pd.isnull(events['Contact Email']).values.astype(int)\n",
    "events['URL']            = pd.isnull(events['URL']).values.astype(int)\n",
    "events['Located at Art'] = pd.isnull(events['Located at Art']).values.astype(int)"
   ]
  },
  {
   "cell_type": "code",
   "execution_count": 82,
   "metadata": {
    "collapsed": true
   },
   "outputs": [],
   "source": [
    "# Convert Location to Binary\n",
    "\n",
    "#events['Location']       = pd.isnull(events['Location']).values.astype(int)"
   ]
  },
  {
   "cell_type": "code",
   "execution_count": 83,
   "metadata": {
    "collapsed": true
   },
   "outputs": [],
   "source": [
    "# Convert Hosted by Camp to Binary\n",
    "\n",
    "#events['Hosted by Camp']       = pd.isnull(events['Hosted by Camp']).values.astype(int)"
   ]
  },
  {
   "cell_type": "code",
   "execution_count": 84,
   "metadata": {},
   "outputs": [
    {
     "data": {
      "text/html": [
       "<div>\n",
       "<style>\n",
       "    .dataframe thead tr:only-child th {\n",
       "        text-align: right;\n",
       "    }\n",
       "\n",
       "    .dataframe thead th {\n",
       "        text-align: left;\n",
       "    }\n",
       "\n",
       "    .dataframe tbody tr th {\n",
       "        vertical-align: top;\n",
       "    }\n",
       "</style>\n",
       "<table border=\"1\" class=\"dataframe\">\n",
       "  <thead>\n",
       "    <tr style=\"text-align: right;\">\n",
       "      <th></th>\n",
       "      <th>Description</th>\n",
       "      <th>Title</th>\n",
       "      <th>Hosted by Camp</th>\n",
       "      <th>Location</th>\n",
       "      <th>Type</th>\n",
       "      <th>Contact Email</th>\n",
       "      <th>URL</th>\n",
       "      <th>Located at Art</th>\n",
       "      <th>Year</th>\n",
       "      <th>Sunday</th>\n",
       "      <th>Monday</th>\n",
       "      <th>Tuesday</th>\n",
       "      <th>Wednesday</th>\n",
       "      <th>Thursday</th>\n",
       "      <th>Friday</th>\n",
       "      <th>Saturday</th>\n",
       "      <th>Sunday2</th>\n",
       "      <th>Monday2</th>\n",
       "    </tr>\n",
       "  </thead>\n",
       "  <tbody>\n",
       "    <tr>\n",
       "      <th>0</th>\n",
       "      <td>“Check Your Baggage” on PLEASair’s giant mocke...</td>\n",
       "      <td>Check Your Baggage at PLEASair</td>\n",
       "      <td>Pleasair</td>\n",
       "      <td>8:30 &amp; D.N.A.</td>\n",
       "      <td>Other</td>\n",
       "      <td>1</td>\n",
       "      <td>1</td>\n",
       "      <td>1</td>\n",
       "      <td>2009</td>\n",
       "      <td>0</td>\n",
       "      <td>1</td>\n",
       "      <td>1</td>\n",
       "      <td>1</td>\n",
       "      <td>1</td>\n",
       "      <td>1</td>\n",
       "      <td>1</td>\n",
       "      <td>0</td>\n",
       "      <td>0</td>\n",
       "    </tr>\n",
       "    <tr>\n",
       "      <th>1</th>\n",
       "      <td>Get your picture taken as Fred or Wilma Flints...</td>\n",
       "      <td>Prehistoric Photo-OP</td>\n",
       "      <td>Camp Bedrock</td>\n",
       "      <td>NaN</td>\n",
       "      <td>Kid-friendly</td>\n",
       "      <td>0</td>\n",
       "      <td>1</td>\n",
       "      <td>1</td>\n",
       "      <td>2009</td>\n",
       "      <td>0</td>\n",
       "      <td>1</td>\n",
       "      <td>1</td>\n",
       "      <td>1</td>\n",
       "      <td>1</td>\n",
       "      <td>1</td>\n",
       "      <td>1</td>\n",
       "      <td>0</td>\n",
       "      <td>0</td>\n",
       "    </tr>\n",
       "    <tr>\n",
       "      <th>2</th>\n",
       "      <td>Please come see us at The Lost Boys camp, wher...</td>\n",
       "      <td>Citezen Art Project</td>\n",
       "      <td>The Lost Boys</td>\n",
       "      <td>NaN</td>\n",
       "      <td>Kid-friendly</td>\n",
       "      <td>0</td>\n",
       "      <td>1</td>\n",
       "      <td>1</td>\n",
       "      <td>2009</td>\n",
       "      <td>0</td>\n",
       "      <td>1</td>\n",
       "      <td>1</td>\n",
       "      <td>1</td>\n",
       "      <td>1</td>\n",
       "      <td>1</td>\n",
       "      <td>1</td>\n",
       "      <td>1</td>\n",
       "      <td>0</td>\n",
       "    </tr>\n",
       "    <tr>\n",
       "      <th>3</th>\n",
       "      <td>Help us create our Garden of Hedon and evolve ...</td>\n",
       "      <td>Garden of Hedon</td>\n",
       "      <td>Celestial Bodies</td>\n",
       "      <td>NaN</td>\n",
       "      <td>Gathering/Party</td>\n",
       "      <td>1</td>\n",
       "      <td>0</td>\n",
       "      <td>1</td>\n",
       "      <td>2009</td>\n",
       "      <td>0</td>\n",
       "      <td>1</td>\n",
       "      <td>1</td>\n",
       "      <td>1</td>\n",
       "      <td>1</td>\n",
       "      <td>1</td>\n",
       "      <td>1</td>\n",
       "      <td>1</td>\n",
       "      <td>0</td>\n",
       "    </tr>\n",
       "    <tr>\n",
       "      <th>4</th>\n",
       "      <td>Get a secret mission! Evolve and win! Help oth...</td>\n",
       "      <td>The Evolution Game</td>\n",
       "      <td>NaN</td>\n",
       "      <td>Center Camp</td>\n",
       "      <td>Game</td>\n",
       "      <td>1</td>\n",
       "      <td>1</td>\n",
       "      <td>1</td>\n",
       "      <td>2009</td>\n",
       "      <td>0</td>\n",
       "      <td>1</td>\n",
       "      <td>1</td>\n",
       "      <td>1</td>\n",
       "      <td>1</td>\n",
       "      <td>1</td>\n",
       "      <td>1</td>\n",
       "      <td>1</td>\n",
       "      <td>0</td>\n",
       "    </tr>\n",
       "  </tbody>\n",
       "</table>\n",
       "</div>"
      ],
      "text/plain": [
       "                                         Description  \\\n",
       "0  “Check Your Baggage” on PLEASair’s giant mocke...   \n",
       "1  Get your picture taken as Fred or Wilma Flints...   \n",
       "2  Please come see us at The Lost Boys camp, wher...   \n",
       "3  Help us create our Garden of Hedon and evolve ...   \n",
       "4  Get a secret mission! Evolve and win! Help oth...   \n",
       "\n",
       "                            Title    Hosted by Camp       Location  \\\n",
       "0  Check Your Baggage at PLEASair          Pleasair  8:30 & D.N.A.   \n",
       "1            Prehistoric Photo-OP      Camp Bedrock            NaN   \n",
       "2             Citezen Art Project     The Lost Boys            NaN   \n",
       "3                 Garden of Hedon  Celestial Bodies            NaN   \n",
       "4              The Evolution Game               NaN    Center Camp   \n",
       "\n",
       "              Type  Contact Email  URL  Located at Art  Year  Sunday  Monday  \\\n",
       "0            Other              1    1               1  2009       0       1   \n",
       "1     Kid-friendly              0    1               1  2009       0       1   \n",
       "2     Kid-friendly              0    1               1  2009       0       1   \n",
       "3  Gathering/Party              1    0               1  2009       0       1   \n",
       "4             Game              1    1               1  2009       0       1   \n",
       "\n",
       "   Tuesday  Wednesday  Thursday  Friday  Saturday  Sunday2  Monday2  \n",
       "0        1          1         1       1         1        0        0  \n",
       "1        1          1         1       1         1        0        0  \n",
       "2        1          1         1       1         1        1        0  \n",
       "3        1          1         1       1         1        1        0  \n",
       "4        1          1         1       1         1        1        0  "
      ]
     },
     "execution_count": 84,
     "metadata": {},
     "output_type": "execute_result"
    }
   ],
   "source": [
    "events.head()"
   ]
  },
  {
   "cell_type": "code",
   "execution_count": 104,
   "metadata": {
    "collapsed": true
   },
   "outputs": [],
   "source": [
    "#######################\n",
    "# FEATURE ENGINEERING #\n",
    "#######################\n",
    "\n",
    "def engineer_feature(series, func, normalize=True):\n",
    "    feature = series.apply(func)\n",
    "       \n",
    "    if normalize:\n",
    "        feature = pd.Series(z_normalize(feature.values.reshape(-1,1)).reshape(-1,))\n",
    "    feature.name = func.__name__ \n",
    "    return feature\n",
    "\n",
    "def engineer_features(series, funclist, normalize=True):\n",
    "    features = pd.DataFrame()\n",
    "    for func in funclist:\n",
    "        print(str(func))\n",
    "        feature = engineer_feature(series, func, normalize)\n",
    "        features[feature.name] = feature\n",
    "    return features\n",
    "\n",
    "##################\n",
    "### Normalizer ###\n",
    "##################\n",
    "\n",
    "scaler = StandardScaler()\n",
    "def z_normalize(data):\n",
    "    scaler.fit(data)\n",
    "    return scaler.transform(data)\n",
    "    \n",
    "def count_words(x, words):\n",
    "    count = 0\n",
    "    for word in words:\n",
    "        count += len(re.findall(word, str(x)))\n",
    "    return count\n",
    "    \n",
    "################\n",
    "### Features ###\n",
    "################\n",
    "\n",
    "def uppercase_freq(x):\n",
    "    return len(re.findall(r'[A-Z]', x))/len(x)\n",
    "\n",
    "def sentence_count(x):\n",
    "    return len(re.findall(\"\\n\", str(x)))+1\n",
    "\n",
    "def word_count(x):\n",
    "    return len(str(x).split())\n",
    "\n",
    "def unique_word_count(x):\n",
    "    return len(set(str(x).split()))\n",
    "\n",
    "def count_letters(x):\n",
    "    return len(str(x))\n",
    "\n",
    "def count_punctuations(x):\n",
    "    return len([c for c in str(x) if c in string.punctuation])\n",
    "\n",
    "def count_words_title(x):\n",
    "    return len([w for w in str(x).split() if w.istitle()])\n",
    "\n",
    "def count_stopwords(x):\n",
    "    return len([w for w in str(x).lower().split() if w in eng_stopwords])\n",
    "\n",
    "def mean_word_len(x):\n",
    "    words = [len(w) for w in str(x).split()]\n",
    "\n",
    "    if len(words) == 0:\n",
    "        return 0\n",
    "    else:\n",
    "        return np.mean(words)\n",
    "\n",
    "##################################\n",
    "### Category-Specific Features ###\n",
    "##################################\n",
    "\n",
    "def count_kids_words(x):\n",
    "    return count_words(x, ['kid', 'scout'])\n",
    "\n",
    "def count_party_words(x):\n",
    "    return count_words(x, ['party', 'dance', 'music', 'celebrate'])\n",
    "\n",
    "def count_adult_words(x):\n",
    "    return count_words(x, ['adult', 'massage', 'sensual', 'erotic', 'sex', 'bdsm', 'pleasure'])\n",
    "\n",
    "def count_game_words(x):\n",
    "    return count_words(x, ['game', 'play', 'prize', 'race', 'tournament'])\n",
    "\n",
    "def count_ritual_words(x):\n",
    "    return count_words(x, ['ceremony', 'ritual', 'temple', 'sacred'])\n",
    "    \n",
    "def count_care_words(x):\n",
    "    return count_words(x, ['heal', 'massage', 'help', 'body'])\n",
    "\n",
    "def count_class_words(x):\n",
    "    return count_words(x, ['learn', 'workshop', 'practice', 'class'])\n",
    "\n",
    "def count_performance_words(x):\n",
    "    return count_words(x, ['perform', 'stage', 'live', 'show', 'audience'])\n",
    "\n",
    "def count_food_words(x):\n",
    "    return count_words(x, ['coffee', 'pickle', 'food', 'serv', 'fresh', 'bacon', 'cheese', 'delicious', 'pancake', 'tast'])\n",
    "\n",
    "def count_fire_words(x):\n",
    "    return count_words(x, ['fire', 'burn', 'spin', 'fuel', 'flame', 'light', 'flow'])\n",
    "\n",
    "def count_parade_words(x):\n",
    "    return count_words(x, ['parade', 'march', 'tour'])\n",
    "\n",
    "############################\n",
    "### Sentimental Features ###\n",
    "############################\n",
    "\n",
    "sia = SIA();\n",
    "\n",
    "def sentiment_compound(x):\n",
    "    polarity = sia.polarity_scores(x)\n",
    "    return polarity['compound']       \n",
    "\n",
    "def sentiment_negative(x):\n",
    "    polarity = sia.polarity_scores(x)\n",
    "    return polarity['neg']       \n",
    "\n",
    "def sentiment_neutral(x):\n",
    "    polarity = sia.polarity_scores(x)\n",
    "    return polarity['neu']       \n",
    "\n",
    "def sentiment_positive(x):\n",
    "    polarity = sia.polarity_scores(x)\n",
    "    return polarity['pos']       \n",
    "        \n",
    "########################\n",
    "### Derived Features ###\n",
    "########################\n",
    "\n",
    "def unique_word_ratio(x):\n",
    "    wc = word_count(x)\n",
    "    \n",
    "    if wc == 0:\n",
    "        return 0\n",
    "    else:\n",
    "        return unique_word_count(x)/wc\n",
    "\n",
    "def percent_ratio(x):\n",
    "    wc = word_count(x)\n",
    "    \n",
    "    if wc == 0:\n",
    "        return 0\n",
    "    else:\n",
    "        return count_punctuations(x)/wc\n",
    "\n",
    "def words_per_sentence(x):\n",
    "    sc = sentence_count(x)\n",
    "    \n",
    "    if sc == 0:\n",
    "        return 0\n",
    "    else:\n",
    "        return word_count(x)/sc"
   ]
  },
  {
   "cell_type": "code",
   "execution_count": 105,
   "metadata": {},
   "outputs": [
    {
     "name": "stdout",
     "output_type": "stream",
     "text": [
      "<function uppercase_freq at 0x000001F3186570D0>\n",
      "<function sentence_count at 0x000001F3186579D8>\n",
      "<function word_count at 0x000001F318657BF8>\n",
      "<function unique_word_count at 0x000001F318657B70>\n",
      "<function count_letters at 0x000001F318657EA0>\n",
      "<function count_punctuations at 0x000001F318657D08>\n",
      "<function count_words_title at 0x000001F318657D90>\n",
      "<function count_stopwords at 0x000001F318657F28>\n",
      "<function mean_word_len at 0x000001F318657C80>\n",
      "<function count_kids_words at 0x000001F318657510>\n",
      "<function count_party_words at 0x000001F318657158>\n",
      "<function count_adult_words at 0x000001F3186572F0>\n",
      "<function count_game_words at 0x000001F318657488>\n",
      "<function count_ritual_words at 0x000001F318657E18>\n",
      "<function count_care_words at 0x000001F3186B9EA0>\n",
      "<function count_class_words at 0x000001F3186B9510>\n",
      "<function count_performance_words at 0x000001F3186B9F28>\n",
      "<function count_food_words at 0x000001F3186B9D90>\n",
      "<function count_fire_words at 0x000001F3186B9048>\n",
      "<function count_parade_words at 0x000001F3186B9950>\n",
      "<function unique_word_ratio at 0x000001F3186B9598>\n",
      "<function percent_ratio at 0x000001F3186B90D0>\n",
      "<function words_per_sentence at 0x000001F33F2710D0>\n",
      "<function sentiment_compound at 0x000001F3186B9AE8>\n",
      "<function sentiment_negative at 0x000001F3186B9400>\n",
      "<function sentiment_positive at 0x000001F3186B91E0>\n",
      "<function sentiment_neutral at 0x000001F3186B9840>\n"
     ]
    }
   ],
   "source": [
    "feature_functions = [uppercase_freq, sentence_count, word_count, unique_word_count, count_letters, count_punctuations, \n",
    "                     count_words_title, count_stopwords, mean_word_len, count_kids_words, count_party_words, \n",
    "                     count_adult_words, count_game_words, count_ritual_words, count_care_words,\n",
    "                     count_class_words, count_performance_words, count_food_words, count_fire_words, count_parade_words,\n",
    "                     unique_word_ratio, percent_ratio, words_per_sentence,\n",
    "                     sentiment_compound, sentiment_negative, sentiment_positive, sentiment_neutral]\n",
    "\n",
    "features = [f.__name__ for f in feature_functions]\n",
    "\n",
    "F_train = engineer_features(events['Description'].fillna(''), feature_functions, normalize=False)\n",
    "\n",
    "X_handFeatures = F_train[features].as_matrix()"
   ]
  },
  {
   "cell_type": "code",
   "execution_count": 106,
   "metadata": {},
   "outputs": [
    {
     "name": "stdout",
     "output_type": "stream",
     "text": [
      "(20165, 3975)\n",
      "(20165, 511)\n",
      "(20165, 61)\n",
      "(20165, 478)\n"
     ]
    }
   ],
   "source": [
    "# run the CountVectorizer on the event descriptions and event titles\n",
    "\n",
    "count_vect_desc  = CountVectorizer(stop_words='english', min_df=25,  ngram_range=(1, 3), analyzer='word')\n",
    "count_vect_title = CountVectorizer(stop_words='english', min_df=25,  ngram_range=(1, 3), analyzer='word')\n",
    "count_vect_camp  = CountVectorizer(stop_words='english', min_df=100, ngram_range=(3, 5), analyzer='char')\n",
    "count_vect_loca  = CountVectorizer(stop_words='english', min_df=50,  ngram_range=(3, 5), analyzer='char')\n",
    "\n",
    "X        = count_vect_desc.fit_transform(events['Description'].values);\n",
    "X_titles = count_vect_title.fit_transform(events['Title'].values);\n",
    "X_camp   = count_vect_camp.fit_transform([str(event) for event in events['Hosted by Camp'].fillna('').values]);\n",
    "X_loca   = count_vect_camp.fit_transform([str(event) for event in events['Location'].fillna('').values]);\n",
    "\n",
    "iX_desc  = X.shape[1]\n",
    "iX_title = X_titles.shape[1]\n",
    "iX_camp  = X_camp.shape[1]\n",
    "iX_loca  = X_loca.shape[1]\n",
    "\n",
    "print(X.shape)\n",
    "print(X_titles.shape)\n",
    "print(X_camp.shape)\n",
    "print(X_loca.shape)"
   ]
  },
  {
   "cell_type": "code",
   "execution_count": 107,
   "metadata": {},
   "outputs": [
    {
     "name": "stdout",
     "output_type": "stream",
     "text": [
      "(20165, 3975)\n",
      "(20165, 511)\n",
      "(20165, 61)\n",
      "(20165, 9)\n",
      "(20165, 3)\n",
      "3975\n"
     ]
    }
   ],
   "source": [
    "basic_features = ['Contact Email', 'URL', 'Located at Art']\n",
    "\n",
    "print(shape(X));\n",
    "print(shape(X_titles));\n",
    "print(shape(X_camp));\n",
    "print(shape(events[days].values));\n",
    "print(shape(events[basic_features].values));\n",
    "\n",
    "desc_length = shape(X)[1]\n",
    "\n",
    "print(desc_length)"
   ]
  },
  {
   "cell_type": "code",
   "execution_count": 108,
   "metadata": {},
   "outputs": [
    {
     "data": {
      "text/plain": [
       "(20165, 2137)"
      ]
     },
     "execution_count": 108,
     "metadata": {},
     "output_type": "execute_result"
    }
   ],
   "source": [
    "enc = OneHotEncoder()\n",
    "le  = LabelEncoder()\n",
    "\n",
    "camps = events['Hosted by Camp'].fillna('')\n",
    "\n",
    "events['Hosted by Camp'] = le.fit_transform(camps)\n",
    "\n",
    "camps = enc.fit_transform(events[['Hosted by Camp']])\n",
    "\n",
    "camps.toarray().shape"
   ]
  },
  {
   "cell_type": "code",
   "execution_count": 109,
   "metadata": {},
   "outputs": [
    {
     "name": "stdout",
     "output_type": "stream",
     "text": [
      "(20165, 6662)\n"
     ]
    }
   ],
   "source": [
    "#X = sparse.csr_matrix(hstack((X.toarray(), X_titles.toarray(), X_camp.toarray(), X_handFeatures, \n",
    "#                              events[days].values, events[basic_features].values)))\n",
    "\n",
    "X = sparse.csr_matrix(hstack((X.toarray(), X_titles.toarray(), X_handFeatures, camps.toarray(), \n",
    "                              events[days].values, events[basic_features].values)))\n",
    "\n",
    "print(shape(X))"
   ]
  },
  {
   "cell_type": "code",
   "execution_count": 110,
   "metadata": {},
   "outputs": [
    {
     "name": "stdout",
     "output_type": "stream",
     "text": [
      "['Adult-oriented' 'Care/Support' 'Class/Workshop' 'Fire' 'Food' 'Game'\n",
      " 'Gathering/Party' 'Kid-friendly' 'Other' 'Parade' 'Performance'\n",
      " 'Ritual/Ceremony']\n"
     ]
    }
   ],
   "source": [
    "le = LabelEncoder()\n",
    "\n",
    "le.fit(events['Type'].values)\n",
    "\n",
    "labels = le.classes_;\n",
    "\n",
    "print(le.classes_)\n",
    "\n",
    "y = le.transform(events['Type'].values) "
   ]
  },
  {
   "cell_type": "code",
   "execution_count": 111,
   "metadata": {},
   "outputs": [
    {
     "name": "stdout",
     "output_type": "stream",
     "text": [
      "(10082, 6662)\n",
      "(10083, 6662)\n",
      "(10082,)\n",
      "(10083,)\n"
     ]
    }
   ],
   "source": [
    "from sklearn.model_selection import train_test_split\n",
    "\n",
    "X_train, X_test, y_train, y_test = train_test_split(X, y, test_size=0.5, stratify=y)\n",
    "\n",
    "print(X_train.shape)\n",
    "print(X_test.shape)\n",
    "print(y_train.shape)\n",
    "print(y_test.shape)"
   ]
  },
  {
   "cell_type": "code",
   "execution_count": null,
   "metadata": {},
   "outputs": [],
   "source": [
    "from sklearn.naive_bayes import MultinomialNB\n",
    "\n",
    "clf = MultinomialNB().fit(X_train, y_train)\n",
    "\n",
    "pred = clf.predict(X_test)\n",
    "\n",
    "from sklearn.metrics import classification_report, confusion_matrix, mean_absolute_error, mean_squared_error;\n",
    "\n",
    "#print(\"Confusion Matrix\")\n",
    "#print(confusion_matrix(y_test, pred));\n",
    "#print(\"\\n\")\n",
    "\n",
    "print(\"Classification Report\")\n",
    "print(classification_report(y_test, pred, target_names=labels));\n",
    "print(\"\\n\")"
   ]
  },
  {
   "cell_type": "code",
   "execution_count": 113,
   "metadata": {},
   "outputs": [
    {
     "name": "stdout",
     "output_type": "stream",
     "text": [
      "Classification Report\n",
      "                 precision    recall  f1-score   support\n",
      "\n",
      " Adult-oriented       0.73      0.49      0.59       562\n",
      "   Care/Support       0.58      0.42      0.49       372\n",
      " Class/Workshop       0.75      0.86      0.80      3210\n",
      "           Fire       0.65      0.51      0.57        81\n",
      "           Food       0.63      0.57      0.60       419\n",
      "           Game       0.67      0.55      0.60       474\n",
      "Gathering/Party       0.66      0.80      0.73      2641\n",
      "   Kid-friendly       0.51      0.21      0.30       181\n",
      "          Other       0.28      0.20      0.24       711\n",
      "         Parade       0.65      0.46      0.54       140\n",
      "    Performance       0.64      0.56      0.59       779\n",
      "Ritual/Ceremony       0.53      0.36      0.43       513\n",
      "\n",
      "    avg / total       0.65      0.67      0.65     10083\n",
      "\n",
      "\n",
      "\n"
     ]
    }
   ],
   "source": [
    "from sklearn.naive_bayes import MultinomialNB\n",
    "\n",
    "clf = LogisticRegression().fit(X_train, y_train)\n",
    "\n",
    "pred = clf.predict(X_test)\n",
    "\n",
    "from sklearn.metrics import classification_report, confusion_matrix, mean_absolute_error, mean_squared_error;\n",
    "\n",
    "#print(\"Confusion Matrix\")\n",
    "#print(confusion_matrix(y_test, pred));\n",
    "#print(\"\\n\")\n",
    "\n",
    "print(\"Classification Report\")\n",
    "print(classification_report(y_test, pred, target_names=labels));\n",
    "print(\"\\n\")"
   ]
  },
  {
   "cell_type": "code",
   "execution_count": 17,
   "metadata": {},
   "outputs": [
    {
     "name": "stderr",
     "output_type": "stream",
     "text": [
      "C:\\ProgramData\\Anaconda3\\lib\\site-packages\\sklearn\\preprocessing\\label.py:151: DeprecationWarning: The truth value of an empty array is ambiguous. Returning False, but in future this will result in an error. Use `array.size > 0` to check that an array is not empty.\n",
      "  if diff:\n"
     ]
    },
    {
     "name": "stdout",
     "output_type": "stream",
     "text": [
      "Classification Report\n",
      "                 precision    recall  f1-score   support\n",
      "\n",
      " Adult-oriented       0.65      0.41      0.50       562\n",
      "   Care/Support       0.48      0.20      0.28       372\n",
      " Class/Workshop       0.70      0.85      0.77      3210\n",
      "           Fire       0.24      0.10      0.14        81\n",
      "           Food       0.56      0.35      0.43       419\n",
      "           Game       0.56      0.41      0.47       474\n",
      "Gathering/Party       0.55      0.82      0.66      2641\n",
      "   Kid-friendly       0.28      0.10      0.15       181\n",
      "          Other       0.35      0.10      0.15       711\n",
      "         Parade       0.68      0.39      0.49       140\n",
      "    Performance       0.63      0.45      0.53       779\n",
      "Ritual/Ceremony       0.52      0.26      0.34       513\n",
      "\n",
      "    avg / total       0.59      0.61      0.58     10083\n",
      "\n",
      "\n",
      "\n"
     ]
    }
   ],
   "source": [
    "import lightgbm as lgb;\n",
    "\n",
    "clf = lgb.LGBMClassifier().fit(X_train.toarray(), y_train)\n",
    "\n",
    "pred = clf.predict(X_test.toarray())\n",
    "\n",
    "#print(\"Confusion Matrix\")\n",
    "#print(confusion_matrix(y_test, pred));\n",
    "#print(\"\\n\")\n",
    "\n",
    "print(\"Classification Report\")\n",
    "print(classification_report(y_test, pred, target_names=labels));\n",
    "print(\"\\n\")"
   ]
  },
  {
   "cell_type": "code",
   "execution_count": null,
   "metadata": {
    "collapsed": true
   },
   "outputs": [],
   "source": []
  }
 ],
 "metadata": {
  "kernelspec": {
   "display_name": "Python 3",
   "language": "python",
   "name": "python3"
  },
  "language_info": {
   "codemirror_mode": {
    "name": "ipython",
    "version": 3
   },
   "file_extension": ".py",
   "mimetype": "text/x-python",
   "name": "python",
   "nbconvert_exporter": "python",
   "pygments_lexer": "ipython3",
   "version": "3.6.4"
  }
 },
 "nbformat": 4,
 "nbformat_minor": 2
}
